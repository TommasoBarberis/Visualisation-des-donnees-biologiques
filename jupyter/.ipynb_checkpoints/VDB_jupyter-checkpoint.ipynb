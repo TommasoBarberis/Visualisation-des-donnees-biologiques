{
 "cells": [
  {
   "cell_type": "markdown",
   "id": "d79b5c7a",
   "metadata": {},
   "source": [
    "# TP Jupyter"
   ]
  },
  {
   "cell_type": "code",
   "execution_count": 19,
   "id": "66a63a01",
   "metadata": {},
   "outputs": [],
   "source": [
    "import pandas as pd"
   ]
  },
  {
   "cell_type": "code",
   "execution_count": 10,
   "id": "4b60aed3",
   "metadata": {},
   "outputs": [],
   "source": [
    "# import data\n",
    "df = pd.read_csv(\"/home/tommaso/M2/Semestre_3/VDB/VDB_jupyter/TCL_wt1.tsv\", sep=\"\\t\")"
   ]
  },
  {
   "cell_type": "code",
   "execution_count": 17,
   "id": "a63cc350",
   "metadata": {},
   "outputs": [
    {
     "data": {
      "text/plain": [
       "Accession                                                        object\n",
       "Description                                                      object\n",
       "Gene Symbol                                                      object\n",
       "Corrected Abundance ratio (1.53)                                 object\n",
       "Log2 Corrected Abundance Ratio                                   object\n",
       "Abundance Ratio Adj. P-Value: (127. T3 Tc WT) / (126. T0 WT)    float64\n",
       "LOG10 Adj.P-val                                                  object\n",
       "dtype: object"
      ]
     },
     "execution_count": 17,
     "metadata": {},
     "output_type": "execute_result"
    }
   ],
   "source": [
    "df.dtypes"
   ]
  },
  {
   "cell_type": "code",
   "execution_count": 18,
   "id": "232eea3e",
   "metadata": {},
   "outputs": [
    {
     "data": {
      "text/plain": [
       "(2024, 7)"
      ]
     },
     "execution_count": 18,
     "metadata": {},
     "output_type": "execute_result"
    }
   ],
   "source": [
    "df.shape"
   ]
  },
  {
   "cell_type": "code",
   "execution_count": 12,
   "id": "5855f842",
   "metadata": {},
   "outputs": [
    {
     "data": {
      "text/html": [
       "<div>\n",
       "<style scoped>\n",
       "    .dataframe tbody tr th:only-of-type {\n",
       "        vertical-align: middle;\n",
       "    }\n",
       "\n",
       "    .dataframe tbody tr th {\n",
       "        vertical-align: top;\n",
       "    }\n",
       "\n",
       "    .dataframe thead th {\n",
       "        text-align: right;\n",
       "    }\n",
       "</style>\n",
       "<table border=\"1\" class=\"dataframe\">\n",
       "  <thead>\n",
       "    <tr style=\"text-align: right;\">\n",
       "      <th></th>\n",
       "      <th>Accession</th>\n",
       "      <th>Description</th>\n",
       "      <th>Gene Symbol</th>\n",
       "      <th>Corrected Abundance ratio (1.53)</th>\n",
       "      <th>Log2 Corrected Abundance Ratio</th>\n",
       "      <th>Abundance Ratio Adj. P-Value: (127. T3 Tc WT) / (126. T0 WT)</th>\n",
       "      <th>LOG10 Adj.P-val</th>\n",
       "    </tr>\n",
       "  </thead>\n",
       "  <tbody>\n",
       "    <tr>\n",
       "      <th>0</th>\n",
       "      <td>P75936</td>\n",
       "      <td>Basal-body rod modification protein FlgD OS=Es...</td>\n",
       "      <td>flgD</td>\n",
       "      <td>0.075816993</td>\n",
       "      <td>-3.721334942</td>\n",
       "      <td>0.000055</td>\n",
       "      <td>4.260067469</td>\n",
       "    </tr>\n",
       "    <tr>\n",
       "      <th>1</th>\n",
       "      <td>P76231</td>\n",
       "      <td>Uncharacterized protein YeaC OS=Escherichia co...</td>\n",
       "      <td>yeaC</td>\n",
       "      <td>0.092810458</td>\n",
       "      <td>-3.429568818</td>\n",
       "      <td>0.000351</td>\n",
       "      <td>3.45462743</td>\n",
       "    </tr>\n",
       "    <tr>\n",
       "      <th>2</th>\n",
       "      <td>P0A8S9</td>\n",
       "      <td>Flagellar transcriptional regulator FlhD OS=Es...</td>\n",
       "      <td>flhD</td>\n",
       "      <td>0.102614379</td>\n",
       "      <td>-3.284695189</td>\n",
       "      <td>0.000027</td>\n",
       "      <td>4.571899347</td>\n",
       "    </tr>\n",
       "    <tr>\n",
       "      <th>3</th>\n",
       "      <td>P0CE48</td>\n",
       "      <td>Elongation factor Tu 2 OS=Escherichia coli (st...</td>\n",
       "      <td>tufB</td>\n",
       "      <td>#VALEUR!</td>\n",
       "      <td>#VALEUR!</td>\n",
       "      <td>NaN</td>\n",
       "      <td>#VALEUR!</td>\n",
       "    </tr>\n",
       "    <tr>\n",
       "      <th>4</th>\n",
       "      <td>P05706</td>\n",
       "      <td>PTS system glucitol/sorbitol-specific EIIA com...</td>\n",
       "      <td>srlB</td>\n",
       "      <td>0.108496732</td>\n",
       "      <td>-3.204276506</td>\n",
       "      <td>0.019963</td>\n",
       "      <td>1.699767669</td>\n",
       "    </tr>\n",
       "  </tbody>\n",
       "</table>\n",
       "</div>"
      ],
      "text/plain": [
       "  Accession                                        Description Gene Symbol  \\\n",
       "0    P75936  Basal-body rod modification protein FlgD OS=Es...        flgD   \n",
       "1    P76231  Uncharacterized protein YeaC OS=Escherichia co...        yeaC   \n",
       "2    P0A8S9  Flagellar transcriptional regulator FlhD OS=Es...        flhD   \n",
       "3    P0CE48  Elongation factor Tu 2 OS=Escherichia coli (st...        tufB   \n",
       "4    P05706  PTS system glucitol/sorbitol-specific EIIA com...        srlB   \n",
       "\n",
       "  Corrected Abundance ratio (1.53) Log2 Corrected Abundance Ratio  \\\n",
       "0                      0.075816993                   -3.721334942   \n",
       "1                      0.092810458                   -3.429568818   \n",
       "2                      0.102614379                   -3.284695189   \n",
       "3                         #VALEUR!                       #VALEUR!   \n",
       "4                      0.108496732                   -3.204276506   \n",
       "\n",
       "   Abundance Ratio Adj. P-Value: (127. T3 Tc WT) / (126. T0 WT)  \\\n",
       "0                                           0.000055              \n",
       "1                                           0.000351              \n",
       "2                                           0.000027              \n",
       "3                                                NaN              \n",
       "4                                           0.019963              \n",
       "\n",
       "  LOG10 Adj.P-val  \n",
       "0     4.260067469  \n",
       "1      3.45462743  \n",
       "2     4.571899347  \n",
       "3        #VALEUR!  \n",
       "4     1.699767669  "
      ]
     },
     "execution_count": 12,
     "metadata": {},
     "output_type": "execute_result"
    }
   ],
   "source": [
    "df.head()"
   ]
  },
  {
   "cell_type": "code",
   "execution_count": null,
   "id": "1ea2f62f",
   "metadata": {},
   "outputs": [],
   "source": []
  }
 ],
 "metadata": {
  "kernelspec": {
   "display_name": "vdb",
   "language": "python",
   "name": "vdb"
  },
  "language_info": {
   "codemirror_mode": {
    "name": "ipython",
    "version": 3
   },
   "file_extension": ".py",
   "mimetype": "text/x-python",
   "name": "python",
   "nbconvert_exporter": "python",
   "pygments_lexer": "ipython3",
   "version": "3.8.10"
  }
 },
 "nbformat": 4,
 "nbformat_minor": 5
}

{
 "cells": [
  {
   "cell_type": "markdown",
   "metadata": {},
   "source": [
    "\n",
    "## Objectifs\n",
    "##### 1 Lire et traiter des données d'entrée avec [PANDAS](https://pandas.pydata.org/)\n",
    "\n",
    "##### 2 Représenter la distribution empirique des \"fold-change\" (**FC**) vs Précision, aka: volcano-plot\n",
    "    \n",
    "##### 3 Effectuer une analyse de sur-représentation en terme GO\n",
    "\n",
    "\n",
    "## Ressources\n",
    "https://www.bioconductor.org/help/course-materials/2015/SeattleApr2015/E_GeneSetEnrichment.html\n",
    "\n",
    "https://matplotlib.org/gallery.html#\n"
   ]
  },
  {
   "cell_type": "markdown",
   "metadata": {},
   "source": [
    "### Déclarations d'environnement\n",
    "A verifier/ adapter"
   ]
  },
  {
   "cell_type": "code",
   "execution_count": 1,
   "metadata": {},
   "outputs": [],
   "source": [
    "import sys, os\n",
    "workDir = f\"{os.getcwd()}/..\"\n",
    "libDir = f\"{workDir}/lib\"\n",
    "dataDir= f\"{workDir}/data\" \n",
    "\n",
    "sys.path.append(libDir)"
   ]
  },
  {
   "cell_type": "code",
   "execution_count": 2,
   "metadata": {},
   "outputs": [],
   "source": [
    "%load_ext autoreload\n",
    "%autoreload 2"
   ]
  },
  {
   "cell_type": "code",
   "execution_count": null,
   "metadata": {},
   "outputs": [],
   "source": [
    "import pandas, uniprot, go\n",
    "import numpy as np"
   ]
  },
  {
   "cell_type": "code",
   "execution_count": 4,
   "metadata": {},
   "outputs": [],
   "source": [
    "%matplotlib nbagg\n",
    "import matplotlib.pyplot as plt"
   ]
  },
  {
   "cell_type": "markdown",
   "metadata": {},
   "source": [
    "### Lecture des valeurs experimentales\n",
    "Charger ```TCL_wt1.tsv``` dans une [dataframe pandas](https://pandas.pydata.org/pandas-docs/stable/reference/api/pandas.read_csv.html).\n",
    "* Retirer les lignes présentant des aberrations numériques"
   ]
  },
  {
   "cell_type": "code",
   "execution_count": null,
   "metadata": {},
   "outputs": [],
   "source": [
    "#### A VOUS DE JOUER"
   ]
  },
  {
   "cell_type": "markdown",
   "metadata": {},
   "source": [
    "### Un premier volcano-plot\n",
    "\n",
    "Ce type de figure représente pour chaque protéine en abscisse le taux d'abondance et en ordonnées la précision de la mesure.\n",
    "\n",
    "##### 1. Réaliser un scatter plot matplotlib avec \n",
    "- en x, `Log2 Corrected Abundance Ratio`\n",
    "- en y, `LOG10 Adj.P-val`\n",
    "\n",
    "Vous légenderez les axes, attention `LOG10 Adj.P-val` est en fait `-LOG10 Adj.P-val`, regardez bien.\n",
    "\n",
    "##### 2. Réaliser des versions évoluées du graphique précédent\n",
    "L'objectif est de mettre l'accent sur la région **-Log10 adj Pvalue > 4** et **Log2 corrected abundance ratio > 0**.\n",
    "Pour cela vous revisiterez le scatter plot précedent au travers des versions suivantes:\n",
    "- première version : un rectangle de la couleur de votre choix matérialisera la région\n",
    "- deuxième version  : une couleur de votre choix représentera les points de la région\n",
    "- troisème version (optionnel): Les identifiants uniprot remplacerons les points des protéines de la région"
   ]
  },
  {
   "cell_type": "code",
   "execution_count": null,
   "metadata": {},
   "outputs": [],
   "source": [
    "#### A VOUS DE JOUER"
   ]
  },
  {
   "cell_type": "markdown",
   "metadata": {},
   "source": [
    "#### Analyse ORA\n",
    "\n",
    "##### Principes\n",
    "Vous disposez d'un objet analyser permettant de réaliser une analyse de la sur-représentation (**ORA**) en termes GO parmi une liste de protéine d'intérêt.\n",
    "La fréquence des termes GO dans le protéome totale est utilisée comme référence.\n",
    "\n",
    "L'objet analyser s'instancie ainsi\n",
    "```python\n",
    "from stat_utils import GO_ORA_analyser\n",
    "o = GO_ORA_analyser(goFile, proteomeDirectory, experimentalProteinDirectory)\n",
    "```\n",
    "\n",
    "Il fournit une méthode par catégorie de terme GO\n",
    "biological_process / molecular_function /cellular_component\n",
    "\n",
    "Par exemple,\n",
    "```python\n",
    "goTerm_scores = o.biological_process([P29744, P05706])\n",
    "```\n",
    "###### 1/ Réaliser une analyse de sur-représentation des termes GO entre `[P29744, P05706]` par rapport au protéome d.E.Coli.\n",
    "Inspectez l'objet retourné par la méthode o.biological_process, que voyez-vous ?\n",
    "###### 2/ Réaliser une analyse de sur-représentation des termes GO avec protéines surabondantes\n",
    "Vous devrez extraire les identifiants uniprot des protéines au *'Log2 Corrected Abundance Ratio'* supérieur au seuil alpha de 5%.\n",
    "\n",
    "Vous conduirez sur cette liste une analyse de sur-représentatio en termes GO à l'aide d'un objet *GO_ORA_analyser*.\n",
    "\n",
    "Vous traiterez les 3 catégories *biological_process / molecular_function /cellular_component*.\n",
    "\n",
    "Vous pouvez faire varier le seuil d'abondance autour de la valeur alpha.\n",
    "\n",
    "Familiarisez-vous avec la structures des dictionnaires de résultas, vous pouvez les sauvegardez au format json.\n",
    "\n"
   ]
  },
  {
   "cell_type": "code",
   "execution_count": null,
   "metadata": {},
   "outputs": [],
   "source": [
    "from stat_utils import GO_ORA_analyser\n",
    "goFile = f\"{dataDir}/go.owl\"\n",
    "### A VOUS DE JOUER"
   ]
  },
  {
   "cell_type": "markdown",
   "metadata": {},
   "source": [
    "## Une première application: représentation riche du résultat de l'analyse\n",
    "\n",
    "\n",
    "### Mise en forme \"riche\" des résultats grâce au notebook\n",
    "\n",
    "Jupyter permet d'étendre le concept de la méthode **__str__()** afin de produire du contenu HTML.\n",
    " Ainsi, tout objet impémentant une méthode **_repr_html_()** sera affiché, via son rendu HTML, dans la cellule d'un notebook.\n",
    "\n",
    "```python\n",
    "class Point():\n",
    "    def __init__(self, x, y, z):\n",
    "        self.x = x\n",
    "        self.y = y\n",
    "        self.z = z\n",
    "    def _repr_html_(self):\n",
    "        htmlString = \"<table><thead><tr><td>Abscisse</td><td>Ordonnée</td><td>Cote</td></tr></thead>\"\n",
    "        htmlString += f\"<tbody><tr><td>{self.x}</td><td>{self.y}</td><td>{self.z}</td></tr></tbody></table>\"\n",
    "        return htmlString\n",
    "Point(2,3,4)\n",
    "```\n",
    "Affichera\n",
    "\n",
    "![caption](../figs/reprhtml.png)\n",
    "\n",
    "\n",
    "### Intégration des résultats à la visualisation du notebook \n",
    "\n",
    "En vous inspirant de la fonction ci-dessus, implémenter une classe Rich_GO_ORA dont la méthode [`_repr_html_`](https://ipython.readthedocs.io/en/stable/config/integrating.html) permettra un affichage plus lisible d'une analyse `biological_process / molecular_function /cellular_component`\n",
    "\n",
    "Un exemple possible est,\n",
    "![caption](../figs/_repr_html_.png)\n",
    "\n",
    "(Bonus): clicker sur le nom du terme GO envoie vers sa description.\n",
    "Pour cela, afficher le nom du pathway dans une balise hyperlien pour permettre d'acceder à la page de description du terme GO. \n",
    "\n",
    "Les termes GO sont accessibles aux URL de la forme\n",
    "`http://amigo.geneontology.org/amigo/term/GO:GO_NUMBER`.\n",
    "\n",
    "\n"
   ]
  },
  {
   "cell_type": "code",
   "execution_count": null,
   "metadata": {},
   "outputs": [],
   "source": [
    "##### A VOUS DE JOUER"
   ]
  },
  {
   "cell_type": "markdown",
   "metadata": {},
   "source": [
    "## Une deuxième application: volcano plot améliorés\n",
    "###### PANDAS\n",
    "En choisissant comme seuil la valeur `alpha` du TP précédent, veuillez extraires les identifiants uniprot des protéines sur-abondantes (rappel les valeurs d'abondance sont celles de la colonne `Log2 Corrected Abundance Ratio`).\n",
    "\n",
    "Vous devrez avoir dans des listes distinctes:\n",
    "* identifiants uniprot\n",
    "* `Log2 Corrected Abundance Ratio`\n",
    "* `LOG10 Adj.P-val'`\n",
    "\n",
    "###### Représentation graphiques\n",
    "* Pour la catégorie de termes GO (biological_process / molecular_function /cellular_component) de votre choix\n",
    "    * Générer une grille de 4 graphiques \n",
    "    * Dans chaque graphique colorez dans une couleur différentes les protéines porteuses de 4 termes de GO que vous estimez les plus pertinents \n",
    "    * Donnez le nom de la catégorie générale à la grille\n",
    "    * Donnez le nom du terme GO représenté dans chaque graphique avec une couleur de titre cohérente.\n",
    "    "
   ]
  },
  {
   "cell_type": "code",
   "execution_count": null,
   "metadata": {},
   "outputs": [],
   "source": [
    "##### A VOUS DE JOUER"
   ]
  }
 ],
 "metadata": {
  "kernelspec": {
   "display_name": "Python [conda env:VDB_2021]",
   "language": "python",
   "name": "conda-env-VDB_2021-py"
  },
  "language_info": {
   "codemirror_mode": {
    "name": "ipython",
    "version": 3
   },
   "file_extension": ".py",
   "mimetype": "text/x-python",
   "name": "python",
   "nbconvert_exporter": "python",
   "pygments_lexer": "ipython3",
   "version": "3.8.5"
  }
 },
 "nbformat": 4,
 "nbformat_minor": 2
}
